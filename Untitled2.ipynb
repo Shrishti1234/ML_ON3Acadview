{
  "nbformat": 4,
  "nbformat_minor": 0,
  "metadata": {
    "colab": {
      "name": "Untitled2.ipynb",
      "version": "0.3.2",
      "provenance": []
    },
    "kernelspec": {
      "name": "python3",
      "display_name": "Python 3"
    }
  },
  "cells": [
    {
      "cell_type": "markdown",
      "metadata": {
        "id": "view-in-github",
        "colab_type": "text"
      },
      "source": [
        "[View in Colaboratory](https://colab.research.google.com/github/Shrishti1234/ML_ON3Acadview/blob/master/Untitled2.ipynb)"
      ]
    },
    {
      "metadata": {
        "id": "XIOEf5k3bGKn",
        "colab_type": "text"
      },
      "cell_type": "markdown",
      "source": [
        "**Ques 1**"
      ]
    },
    {
      "metadata": {
        "id": "z-O_3H-RbByU",
        "colab_type": "code",
        "colab": {
          "base_uri": "https://localhost:8080/",
          "height": 34
        },
        "outputId": "88d29eb8-05db-49c7-b156-e68d58a9762e"
      },
      "cell_type": "code",
      "source": [
        "def prob(A,B,AB):\n",
        "  BA=(AB*B)/A\n",
        "  return BA\n",
        "A=11/36\n",
        "B=6/36\n",
        "AB=2/36\n",
        "z=prob(A,B,AB)\n",
        "z\n"
      ],
      "execution_count": 1,
      "outputs": [
        {
          "output_type": "execute_result",
          "data": {
            "text/plain": [
              "0.0303030303030303"
            ]
          },
          "metadata": {
            "tags": []
          },
          "execution_count": 1
        }
      ]
    },
    {
      "metadata": {
        "id": "TBLIsW4yhKlJ",
        "colab_type": "text"
      },
      "cell_type": "markdown",
      "source": [
        "**Ques 2**"
      ]
    },
    {
      "metadata": {
        "id": "ANdHsD9CbPaQ",
        "colab_type": "code",
        "colab": {
          "base_uri": "https://localhost:8080/",
          "height": 34
        },
        "outputId": "e136ac0a-17ab-4a8b-ea06-a14376d6de61"
      },
      "cell_type": "code",
      "source": [
        "x=0.588339\n",
        "print(\"Probabilty that it is drawn from Bag 1 is \",x)"
      ],
      "execution_count": 3,
      "outputs": [
        {
          "output_type": "stream",
          "text": [
            "Probabilty that it is drawn from Bag 1 is  0.588339\n"
          ],
          "name": "stdout"
        }
      ]
    },
    {
      "metadata": {
        "id": "wyIfS2F7hnmZ",
        "colab_type": "text"
      },
      "cell_type": "markdown",
      "source": [
        "**Ques 3**\n"
      ]
    },
    {
      "metadata": {
        "id": "ncjx1xb3hhk_",
        "colab_type": "code",
        "colab": {
          "base_uri": "https://localhost:8080/",
          "height": 34
        },
        "outputId": "ea708eaf-55a9-4aeb-d4a1-9c992cf8d67e"
      },
      "cell_type": "code",
      "source": [
        "x=0.2357\n",
        "print(\"Probabilty that actually four obtained is \",x)"
      ],
      "execution_count": 4,
      "outputs": [
        {
          "output_type": "stream",
          "text": [
            "Probabilty that actually four obtained is  0.2357\n"
          ],
          "name": "stdout"
        }
      ]
    }
  ]
}